{
  "nbformat": 4,
  "nbformat_minor": 0,
  "metadata": {
    "colab": {
      "name": "AtCoder_ant_book_basic.ipynb",
      "provenance": [],
      "collapsed_sections": [],
      "toc_visible": true
    },
    "kernelspec": {
      "name": "python3",
      "display_name": "Python 3"
    },
    "language_info": {
      "name": "python"
    }
  },
  "cells": [
    {
      "cell_type": "markdown",
      "source": [
        "# [AtCoder 版！蟻本 (初級編)](https://qiita.com/drken/items/e77685614f3c6bf86f44)\n",
        "に掲載の問題をひたすら解くためのnotebook"
      ],
      "metadata": {
        "id": "n6EbyEo6dnUP"
      }
    },
    {
      "cell_type": "markdown",
      "source": [
        "## 例題 1-1-1　(ハードルの上がった) くじびき ＜難問！！！！！＞\n",
        "[C - ダーツ](https://atcoder.jp/contests/joi2008ho/tasks/joi2008ho_c)"
      ],
      "metadata": {
        "id": "D2vMcMt-dxK4"
      }
    },
    {
      "cell_type": "markdown",
      "source": [
        "## 1-6 気楽にウォーミングアップ\n",
        "[A - 2点間距離の最大値 ( The longest distance )](https://atcoder.jp/contests/arc004/tasks/arc004_1)"
      ],
      "metadata": {
        "id": "4Orxz7sOdxPX"
      }
    },
    {
      "cell_type": "markdown",
      "source": [
        "# 2 基礎からスタート！ --- 初級編\n",
        "2-1 すべての基本 \"全探索\""
      ],
      "metadata": {
        "id": "bMRuaui0dxSw"
      }
    },
    {
      "cell_type": "markdown",
      "source": [
        "### 例題 2-1-1　部分和問題"
      ],
      "metadata": {
        "id": "6lEkMOLYfOE2"
      }
    },
    {
      "cell_type": "markdown",
      "source": [
        "#### [C - たくさんの数式](https://atcoder.jp/contests/arc061/tasks/arc061_a)"
      ],
      "metadata": {
        "id": "H2NQ3riPfOH6"
      }
    },
    {
      "cell_type": "code",
      "source": [
        "from itertools import product\n",
        "\n",
        "S = input()\n",
        "N = len(S)\n",
        "\n",
        "# S = '125'\n",
        "# N = 3\n",
        "\n",
        "# '+'を挟む箇所は全部でN-1箇所存在し、それぞれ「+を挟まない」「+を挟む」の2択が存在する\n",
        "# ｐｒｏｄｕｃｔで2^(N-1)通りのパターンを表すタプルを作成する\n",
        "ptns = product(['', '+'], repeat=N-1)\n",
        "res_list = []\n",
        "\n",
        "# それぞれのパターンに対して、文字列Sとパターンを組み合わせて計算式(str型のまま)を作成\n",
        "for ptn in ptns:\n",
        "  res = ''\n",
        "  ptn_list = list(ptn) + ['']\n",
        "  # for s, p in zip(S, ptn_list) と書くほうが良さそう\n",
        "  for i in zip(S, ptn_list):\n",
        "    # Sの各文字とptn_listの各要素を1個ずつ取り出し結合することで'1+2+5'のような文字列を作成\n",
        "    res += ''.join(list(i))\n",
        "  res_list.append(res)\n",
        "\n",
        "# '+'の箇所で文字列を分ける\n",
        "res_list_sp = [i.split('+') for i in res_list]\n",
        "# 多次元リストになっているので1次元に直す\n",
        "res_list_flatten = sum(res_list_sp, [])\n",
        "# 文字列から数値に直す\n",
        "res_list_int = list(map(int, res_list_flatten))\n",
        "# 全ての要素を合計する\n",
        "print(sum(res_list_int))"
      ],
      "metadata": {
        "colab": {
          "base_uri": "https://localhost:8080/"
        },
        "id": "9kmx_WZqfOLY",
        "outputId": "11637416-d41c-4770-807e-39164e68b4fe"
      },
      "execution_count": null,
      "outputs": [
        {
          "output_type": "stream",
          "name": "stdout",
          "text": [
            "9999999999\n",
            "12656242944\n"
          ]
        }
      ]
    },
    {
      "cell_type": "markdown",
      "source": [
        "#### [C - Train Ticket](https://atcoder.jp/contests/abc079/tasks/abc079_c)"
      ],
      "metadata": {
        "id": "jVYuDaXVrYsR"
      }
    },
    {
      "cell_type": "code",
      "source": [
        "from itertools import product\n",
        "\n",
        "S = input()\n",
        "# S = '0290'\n",
        "ops = ['{op1}', '{op2}', '{op3}', '']\n",
        "\n",
        "res = []\n",
        "\n",
        "# 4文字の間に演算子(op1〜op3)を挟んだ文字列を作成\n",
        "for s, o in zip(S, ops):\n",
        "  res.append(s)\n",
        "  res.append(o)\n",
        "  # print(res)\n",
        "\n",
        "# '1{op1}2{op2}2{op3}2'のようなstr型オブジェクト\n",
        "text_template = ''.join(res)\n",
        "\n",
        "# +, ｰの組み合わせをbit全探索で作成\n",
        "# なお、後で+演算子でsplitすることで和を取る整数に分割できるようにするため、-の前に+をつけておく\n",
        "ptns = product(['+', '+-'], repeat=len(S)-1)\n",
        "\n",
        "# +, -の組み合わせごとに計算式を作成し、実際に計算して7に等しければ計算式(str型)を出力する\n",
        "for ptn in ptns:\n",
        "  op1, op2, op3 = ptn\n",
        "  d = {'op1':op1, 'op2':op2, 'op3':op3}\n",
        "  # formatの引数に直接辞書を指定してもだめで、dなどの変数に辞書を入れてから**dとしてキーワード引数として指定しないといけない\n",
        "  text = text_template.format(**d)\n",
        "  int_list = list(map(int, text.split('+')))\n",
        "  if sum(int_list) == 7:\n",
        "    print(text.replace('+-', '-') + '=7')\n",
        "    break"
      ],
      "metadata": {
        "id": "bDNp5iUxGGoo",
        "colab": {
          "base_uri": "https://localhost:8080/"
        },
        "outputId": "3f84a8cd-85f9-4980-acda-6d1f1b9d298d"
      },
      "execution_count": 63,
      "outputs": [
        {
          "output_type": "stream",
          "name": "stdout",
          "text": [
            "3242\n",
            "3+2+4-2=7\n"
          ]
        }
      ]
    },
    {
      "cell_type": "code",
      "source": [
        ""
      ],
      "metadata": {
        "id": "fJkVTCJp3u46"
      },
      "execution_count": null,
      "outputs": []
    },
    {
      "cell_type": "code",
      "source": [
        ""
      ],
      "metadata": {
        "id": "1ZOiuSiy3u9C"
      },
      "execution_count": null,
      "outputs": []
    },
    {
      "cell_type": "code",
      "source": [
        ""
      ],
      "metadata": {
        "id": "1HaZzL2P3vCS"
      },
      "execution_count": null,
      "outputs": []
    }
  ]
}