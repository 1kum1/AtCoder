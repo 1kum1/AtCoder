{
  "nbformat": 4,
  "nbformat_minor": 0,
  "metadata": {
    "colab": {
      "name": "PracticeA_Welcome_to_AtCoder.ipynb",
      "provenance": [],
      "collapsed_sections": [],
      "toc_visible": true
    },
    "kernelspec": {
      "name": "python3",
      "display_name": "Python 3"
    }
  },
  "cells": [
    {
      "cell_type": "markdown",
      "metadata": {
        "id": "jOA_lvsPFEMj"
      },
      "source": [
        "# [PracticeA - Welcome to AtCoder](https://atcoder.jp/contests/abs/tasks/practice_1)"
      ]
    },
    {
      "cell_type": "markdown",
      "metadata": {
        "id": "y-NTe18Hp_zC"
      },
      "source": [
        "# メモ\n",
        "* 標準入力の受け取り方に要注意\n",
        " * 1行の場合はsplit()などで一気に受け取る必要あり\n",
        " * 複数行の場合は入力ごとに受け取る"
      ]
    },
    {
      "cell_type": "code",
      "metadata": {
        "colab": {
          "base_uri": "https://localhost:8080/"
        },
        "id": "9Vjus91QFQ8a",
        "outputId": "a5b5dbf8-a484-4f29-884a-1a3edb803b31"
      },
      "source": [
        "# 整数の入力\n",
        "a = int(input())\n",
        "# スペース区切りの整数の入力\n",
        "b, c = map(int, input().split())\n",
        "# 文字列の入力\n",
        "s = input()\n",
        "# 出力\n",
        "print(\"{} {}\".format(a+b+c, s))"
      ],
      "execution_count": null,
      "outputs": [
        {
          "output_type": "stream",
          "name": "stdout",
          "text": [
            "1\n",
            "2 3\n",
            "text\n",
            "6 text\n"
          ]
        }
      ]
    },
    {
      "cell_type": "markdown",
      "metadata": {
        "id": "aeEa9yMN3GUi"
      },
      "source": [
        "# [AtCoder に登録したら次にやること ～ これだけ解けば十分闘える！過去問精選 10 問 ～](https://qiita.com/drken/items/fd4e5e3630d0f5859067)"
      ]
    },
    {
      "cell_type": "markdown",
      "metadata": {
        "id": "AnlXhyNRFRBB"
      },
      "source": [
        "## Q1. [A - Product](https://atcoder.jp/contests/abc086/tasks/abc086_a)"
      ]
    },
    {
      "cell_type": "code",
      "metadata": {
        "colab": {
          "base_uri": "https://localhost:8080/"
        },
        "id": "Xm03iKIfFRFK",
        "outputId": "6a2559cf-30fb-4fc1-a8b0-02b17647d367"
      },
      "source": [
        "# スペース区切りの整数の入力\n",
        "a, b = map(int, input().split())\n",
        "\n",
        "if (a*b)%2 == 0:\n",
        "  print(\"Even\")\n",
        "else:\n",
        "  print(\"Odd\")"
      ],
      "execution_count": null,
      "outputs": [
        {
          "output_type": "stream",
          "name": "stdout",
          "text": [
            "3 5\n",
            "Odd\n"
          ]
        }
      ]
    },
    {
      "cell_type": "markdown",
      "metadata": {
        "id": "_V55-AyS1MUE"
      },
      "source": [
        "## Q2. [A - Placing Marbles ](https://atcoder.jp/contests/abc081/tasks/abc081_a)"
      ]
    },
    {
      "cell_type": "code",
      "metadata": {
        "colab": {
          "base_uri": "https://localhost:8080/"
        },
        "id": "g99J1eMj1MYM",
        "outputId": "dfa197ac-de87-4640-9e62-289103422de6"
      },
      "source": [
        "s = str(input())\n",
        "\n",
        "num = 0\n",
        "for i, char in enumerate(s):\n",
        "  num += int(char)\n",
        "\n",
        "print(num)"
      ],
      "execution_count": null,
      "outputs": [
        {
          "output_type": "stream",
          "name": "stdout",
          "text": [
            "010\n",
            "1\n"
          ]
        }
      ]
    },
    {
      "cell_type": "code",
      "metadata": {
        "colab": {
          "base_uri": "https://localhost:8080/"
        },
        "id": "9m1bosYX1Mcq",
        "outputId": "71b358bd-0ce1-4dbc-ed0f-382085bca92e"
      },
      "source": [
        "# 別解\n",
        "print(input().count(\"1\"))"
      ],
      "execution_count": null,
      "outputs": [
        {
          "output_type": "stream",
          "text": [
            "101\n",
            "2\n"
          ],
          "name": "stdout"
        }
      ]
    },
    {
      "cell_type": "markdown",
      "metadata": {
        "id": "fm-Txapm1Mgi"
      },
      "source": [
        "## Q3. [B - Shift only](https://atcoder.jp/contests/abc081/tasks/abc081_b)"
      ]
    },
    {
      "cell_type": "code",
      "metadata": {
        "id": "dC50cAl_7rxb",
        "colab": {
          "base_uri": "https://localhost:8080/"
        },
        "outputId": "8afe6dbe-7d8a-456b-b4ac-022c99da0a74"
      },
      "source": [
        "import numpy as np\n",
        "\n",
        "_ = input() # 最初の入力は使わない\n",
        "num = input().split()\n",
        "num2 = np.array([int(i) for i in num])\n",
        "\n",
        "count = 0\n",
        "while (num2 % 2).sum() == 0:\n",
        "  count += 1\n",
        "  num2 = num2 // 2\n",
        "\n",
        "print(count)"
      ],
      "execution_count": null,
      "outputs": [
        {
          "output_type": "stream",
          "name": "stdout",
          "text": [
            "3\n",
            "8 8 5\n",
            "0\n"
          ]
        }
      ]
    },
    {
      "cell_type": "markdown",
      "metadata": {
        "id": "40u0nMC_peuo"
      },
      "source": [
        "### [別解](http://delta114514.hatenablog.jp/entry/2018/03/15/014555#3%E5%95%8F%E7%9B%AE-ABC081B---Shift-only)"
      ]
    },
    {
      "cell_type": "code",
      "metadata": {
        "id": "dH6p0AIB7r53"
      },
      "source": [
        "import math\n",
        "n = input()\n",
        "a = list(map(int, input().split()))\n",
        "ans = float(\"inf\")\n",
        "for i in a:\n",
        "    ans = min(ans, len(bin(i)) - bin(i).rfind(\"1\") - 1) # # binに変換すると、右に続く0の数が、「何回2で割れるか」を表しているので、それを利用する、とのこと\n",
        "print(round(ans))"
      ],
      "execution_count": null,
      "outputs": []
    },
    {
      "cell_type": "markdown",
      "metadata": {
        "id": "A3AEVRoWli2B"
      },
      "source": [
        "## Q4. [B - Coins](https://atcoder.jp/contests/abc087/tasks/abc087_b)"
      ]
    },
    {
      "cell_type": "code",
      "metadata": {
        "id": "ROSs3yd2qryw",
        "colab": {
          "base_uri": "https://localhost:8080/"
        },
        "outputId": "cf977bac-308d-4f69-ecb1-bb485c53343b"
      },
      "source": [
        "# メモ：ABCのB問題までは素直な全探索を行えば良いケースが多いらしい\n",
        "\n",
        "import numpy as np\n",
        "from itertools import product\n",
        "\n",
        "A = int(input())\n",
        "B = int(input())\n",
        "C = int(input())\n",
        "X = int(input())\n",
        "\n",
        "# A, B, C, X = map(int, [input() for i in range(4)]) # こういう書き方のほうが楽だった\n",
        "\n",
        "a = np.array(list(range(0, A+1)))*500 # 500円玉の選び方\n",
        "b = np.array(list(range(0, B+1)))*100 # 100円玉の選び方\n",
        "c = np.array(list(range(0, C+1)))*50 # 50円玉の選び方\n",
        "\n",
        "con = np.array(list(product(a, b, c))) # 3種類の硬貨の選び方の組み合わせ\n",
        "\n",
        "pattern = sum(con.sum(axis=1) == X) # X円になる場合の選び方\n",
        "\n",
        "print(pattern)"
      ],
      "execution_count": null,
      "outputs": [
        {
          "output_type": "stream",
          "text": [
            "30\n",
            "40\n",
            "50\n",
            "6000\n",
            "213\n"
          ],
          "name": "stdout"
        }
      ]
    },
    {
      "cell_type": "markdown",
      "metadata": {
        "id": "GCgEBPWktLKi"
      },
      "source": [
        "## Q5. [B - Some Sums](https://atcoder.jp/contests/abc083/tasks/abc083_b)"
      ]
    },
    {
      "cell_type": "code",
      "metadata": {
        "id": "WkKUdFJxtLQG",
        "colab": {
          "base_uri": "https://localhost:8080/"
        },
        "outputId": "21ffec08-6560-4b3b-e21d-f905d1d9ebb2"
      },
      "source": [
        "import numpy as np\n",
        "\n",
        "n, a, b = map(int, input().split())\n",
        "res = []\n",
        "\n",
        "n_list = list(range(1, n+1))\n",
        "for num in n_list:\n",
        "  c = str(num)\n",
        "  c2 = np.array([int(i) for i in c])\n",
        "  if a <= c2.sum() <= b:\n",
        "    res.append(num)\n",
        "  \n",
        "print(np.array(res).sum())"
      ],
      "execution_count": null,
      "outputs": [
        {
          "output_type": "stream",
          "text": [
            "100 4 16\n",
            "4554\n"
          ],
          "name": "stdout"
        }
      ]
    },
    {
      "cell_type": "markdown",
      "metadata": {
        "id": "OMoNoXLQRZZX"
      },
      "source": [
        "### [別解](http://delta114514.hatenablog.jp/entry/2018/03/15/014555#5%E5%95%8F%E7%9B%AE-ABC083B---Some-Sums)"
      ]
    },
    {
      "cell_type": "code",
      "metadata": {
        "colab": {
          "base_uri": "https://localhost:8080/"
        },
        "id": "3GoUgyebq8Di",
        "outputId": "743157bb-c7c0-4322-db55-8e9398345406"
      },
      "source": [
        "n, a, b = map(int, input().split())\n",
        "ans = 0\n",
        "for i in range(n+1):\n",
        "    if a <= sum(list(map(int, list(str(i))))) <= b:\n",
        "        ans += i\n",
        "print(ans)"
      ],
      "execution_count": null,
      "outputs": [
        {
          "output_type": "stream",
          "text": [
            "100 4 16\n",
            "4554\n"
          ],
          "name": "stdout"
        }
      ]
    },
    {
      "cell_type": "markdown",
      "metadata": {
        "id": "MY0f6bbgq8Il"
      },
      "source": [
        "## Q6. [B - Card Game for Two](https://atcoder.jp/contests/abc088/tasks/abc088_b)"
      ]
    },
    {
      "cell_type": "code",
      "metadata": {
        "id": "NUm2dHYfq8Mi",
        "colab": {
          "base_uri": "https://localhost:8080/"
        },
        "outputId": "275cb658-de8b-4b35-f8d3-f3a74138a7cd"
      },
      "source": [
        "n = int(input())\n",
        "a = list(map(int, input().split()))\n",
        "\n",
        "Alice = []\n",
        "Bob = []\n",
        "\n",
        "for i in range(0, n):\n",
        "  num = max(a)\n",
        "  if i % 2 == 0:\n",
        "    Alice.append( num )\n",
        "  else:\n",
        "    Bob.append( num )\n",
        "  del a[ a.index(num) ]\n",
        "\n",
        "print( sum(Alice) - sum(Bob) )"
      ],
      "execution_count": null,
      "outputs": [
        {
          "output_type": "stream",
          "text": [
            "4\n",
            "20 18 2 18\n",
            "18\n"
          ],
          "name": "stdout"
        }
      ]
    },
    {
      "cell_type": "markdown",
      "metadata": {
        "id": "0vPz074mn_Ng"
      },
      "source": [
        "### 別解"
      ]
    },
    {
      "cell_type": "code",
      "metadata": {
        "id": "4qaB-UXaoBCw"
      },
      "source": [
        "n = int(input())\n",
        "a = sorted(list(map(int, input().split())), reverse=True)\n",
        "print(sum(a[::2]) - sum(a[1::2])) # リスト[開始位置:終了位置:増分] の書き方。"
      ],
      "execution_count": null,
      "outputs": []
    },
    {
      "cell_type": "markdown",
      "metadata": {
        "id": "V32usWD-ltQC"
      },
      "source": [
        "## Q7. [B - Kagami Mochi](https://atcoder.jp/contests/abc085/tasks/abc085_b)"
      ]
    },
    {
      "cell_type": "code",
      "metadata": {
        "id": "nWe6bFaMltV_",
        "colab": {
          "base_uri": "https://localhost:8080/"
        },
        "outputId": "f1cbde86-25a4-4aed-e83c-6c510ed72026"
      },
      "source": [
        "# 提出するとなぜか実行エラーになる\n",
        "n = int(input())\n",
        "d = map(int, [input() for i in range(n)])\n",
        "print( len(set(d)) )"
      ],
      "execution_count": null,
      "outputs": [
        {
          "output_type": "stream",
          "name": "stdout",
          "text": [
            "4\n",
            "10\n",
            "8\n",
            "8\n",
            "6\n",
            "3\n"
          ]
        }
      ]
    },
    {
      "cell_type": "markdown",
      "source": [
        "### 別解"
      ],
      "metadata": {
        "id": "QgsnIqsb0Y45"
      }
    },
    {
      "cell_type": "code",
      "metadata": {
        "id": "kclQw7dPltaz",
        "colab": {
          "base_uri": "https://localhost:8080/"
        },
        "outputId": "ba2c5ee8-8149-4266-c092-5b06d952840a"
      },
      "source": [
        "n = int(input())\n",
        "print(len(set(map(int, [input() for i in range(n)]))))"
      ],
      "execution_count": null,
      "outputs": [
        {
          "output_type": "stream",
          "name": "stdout",
          "text": [
            "4\n",
            "10\n",
            "8\n",
            "8\n",
            "6\n",
            "3\n"
          ]
        }
      ]
    },
    {
      "cell_type": "markdown",
      "metadata": {
        "id": "LgbV1RF8TOXH"
      },
      "source": [
        "## Q8. [C - Otoshidama](https://atcoder.jp/contests/abc085/tasks/abc085_c)\n",
        " * C問題から処理時間を考慮する必要が出てくる\n",
        " * 1秒間似処理できるforループは$10^8$つまり1億回まで"
      ]
    },
    {
      "cell_type": "markdown",
      "source": [
        "### 解答1"
      ],
      "metadata": {
        "id": "SqoBj9s2oMU4"
      }
    },
    {
      "cell_type": "code",
      "metadata": {
        "id": "M5snYvIsltfG",
        "colab": {
          "base_uri": "https://localhost:8080/"
        },
        "outputId": "a4e5794e-267d-4952-abaa-03033a1a7fc7"
      },
      "source": [
        "# 自分の解答1。遅い&inputの受け取り方が間違っている、1行で受け取る必要がある\n",
        "import itertools\n",
        "\n",
        "N = int(input())\n",
        "Y = int(input())\n",
        "\n",
        "tmp = list(itertools.combinations_with_replacement('xyz', N))\n",
        "res = 0\n",
        "\n",
        "for tup in tmp:\n",
        "  x = tup.count('x')\n",
        "  y = tup.count('y')\n",
        "  z = tup.count('z')\n",
        "\n",
        "  total = 10000*tup.count('x') + 5000*tup.count('y') + 1000*tup.count('z')\n",
        "  \n",
        "  if total == Y:\n",
        "    print(f'{x} {y} {z}')\n",
        "    res += 1\n",
        "    break\n",
        "\n",
        "if res == 0:\n",
        "  print('-1 -1 -1')"
      ],
      "execution_count": null,
      "outputs": [
        {
          "output_type": "stream",
          "name": "stdout",
          "text": [
            "1000\n",
            "1234000\n",
            "26 0 974\n"
          ]
        }
      ]
    },
    {
      "cell_type": "markdown",
      "source": [
        "### 解答2"
      ],
      "metadata": {
        "id": "ylKsu3LfoUcu"
      }
    },
    {
      "cell_type": "code",
      "source": [
        "# 自分の解答2。速度改善\n",
        "\n",
        "data = list(map(int, input().split()))\n",
        "N = data[0]\n",
        "Y = data[1]\n",
        "\n",
        "# N = 9\n",
        "# Y = 45000\n",
        "\n",
        "num = Y//10000 # 10000円が最大何枚になるか\n",
        "num_l = list(range(num+1))\n",
        "num_l.sort(reverse=True)\n",
        "\n",
        "res = 0\n",
        "\n",
        "for x in num_l:\n",
        "  for y in range(N - x + 1): # range(0)は空を返すため、+1しておく。ちなみにｒａｎｇｅ（１）=[0]\n",
        "    z = N - (x + y)\n",
        "    if 10000*x + 5000*y + 1000*z == Y:\n",
        "      res += 1\n",
        "      # print(f'{x} {y} {z}')\n",
        "      break\n",
        "  if res > 0:\n",
        "    break\n",
        "\n",
        "if res > 0:\n",
        "  print(f'{x} {y} {z}')\n",
        "else:\n",
        "  print('-1 -1 -1')"
      ],
      "metadata": {
        "colab": {
          "base_uri": "https://localhost:8080/"
        },
        "id": "xVHPxz7dZl3j",
        "outputId": "2142de95-309b-4b34-ff1e-b32fdf44f109"
      },
      "execution_count": null,
      "outputs": [
        {
          "output_type": "stream",
          "name": "stdout",
          "text": [
            "1000\n",
            "1234000\n",
            "26 0 974\n"
          ]
        }
      ]
    },
    {
      "cell_type": "markdown",
      "metadata": {
        "id": "jBB_wHUYo6UP"
      },
      "source": [
        "## Q9. [C - Daydream](https://atcoder.jp/contests/abc049/tasks/arc065_a)\n",
        "\n",
        "解けなかったので以下記事のスクリプトを参照させてもらった  \n",
        "[AtCoder に登録したら解くべき精選過去問 10 問 をPythonで解いてみた](https://delta114514.hatenablog.jp/entry/2018/03/15/014555)"
      ]
    },
    {
      "cell_type": "code",
      "metadata": {
        "id": "5PuIItNRq8T2",
        "colab": {
          "base_uri": "https://localhost:8080/"
        },
        "outputId": "0b8cb6c2-b31b-48ad-a149-772ce2ade4f5"
      },
      "source": [
        "s = 'dreameraserdream'\n",
        "\n",
        "def solve(query):\n",
        "  while 1:\n",
        "    for frag in ('erase', 'eraser', 'dream', 'dreamer'):\n",
        "      if query.endswith(frag):\n",
        "        query = query[:-len(frag)]\n",
        "        break\n",
        "    else:\n",
        "      print('NO')\n",
        "      break\n",
        "    if not query:\n",
        "      print('YES')\n",
        "      break\n",
        "\n",
        "solve(s)"
      ],
      "execution_count": null,
      "outputs": [
        {
          "output_type": "stream",
          "name": "stdout",
          "text": [
            "NO\n"
          ]
        }
      ]
    },
    {
      "cell_type": "markdown",
      "metadata": {
        "id": "fvP4QCRvxBso"
      },
      "source": [
        "## Q10. [C - Traveling](https://atcoder.jp/contests/abc086/tasks/arc089_a)"
      ]
    },
    {
      "cell_type": "markdown",
      "source": [
        "### 解答1"
      ],
      "metadata": {
        "id": "2bWGJffGXrdp"
      }
    },
    {
      "cell_type": "code",
      "source": [
        "N = int(input())\n",
        "\n",
        "# 時点tごとの(x,y)を受け取るためのリスト[[t, x, y]]を作成\n",
        "# 時点t0のときは(x, y) = (0, 0)なので、予めデータを入れておく\n",
        "data = [[0,0,0]]\n",
        "\n",
        "for i in range(N):\n",
        "  data.append( list(map(int, input().split())) )\n",
        "\n",
        "check = 0\n",
        "\n",
        "for ti in range(1, N+1):\n",
        "  # ti-1時点からの経過時間と、x,yの移動距離\n",
        "  t = data[ti][0] - data[ti-1][0]\n",
        "  x = data[ti][1] - data[ti-1][1]\n",
        "  y = data[ti][2] - data[ti-1][2]\n",
        "  \n",
        "  # 移動時間<移動距離 あるいは 移動時間と移動距離の偶奇が一致しない のどちらかでも当てはまれば旅行プランは成立しない\n",
        "  if ( t < abs(x) + abs(y) ) | ( t%2 != (abs(x) + abs(y))%2 ):\n",
        "    print('No')\n",
        "    check += 1\n",
        "    break\n",
        "\n",
        "if check == 0:\n",
        "  print('Yes')"
      ],
      "metadata": {
        "id": "wgf7GlhMGN_y",
        "colab": {
          "base_uri": "https://localhost:8080/"
        },
        "outputId": "76e2ccb7-a935-4ebe-cf2f-bd5861eace47"
      },
      "execution_count": null,
      "outputs": [
        {
          "output_type": "stream",
          "name": "stdout",
          "text": [
            "2\n",
            "5 1 1\n",
            "100 1 1\n",
            "No\n"
          ]
        }
      ]
    },
    {
      "cell_type": "markdown",
      "source": [
        "### ボツ解答(惜しかった\n",
        "考え方は合っていたがコードの実装がうまく行かなくて自分の回答だと提出結果で2問間違えていた  "
      ],
      "metadata": {
        "id": "7oa29zueXXmf"
      }
    },
    {
      "cell_type": "code",
      "source": [
        "N = int(input())\n",
        "\n",
        "# 時点ごとの(x,y)を受け取るためのリストを作成\n",
        "# 時点t0のときは(x, y) = (0, 0)なので、予めデータを入れておく\n",
        "data = [[0,0,0]]\n",
        "\n",
        "for i in range(N):\n",
        "  data.append( list(map(int, input().split())) )\n",
        "\n",
        "check = 0\n",
        "\n",
        "#　t1から順にプランとして成り立つか確認していき、1箇所でも破綻していたらその時点でNoを出力して終了する\n",
        "\n",
        "# t1の時点で破綻していたらNoを返す\n",
        "# 旅行プランが成り立つのはt1>=abs(x1+y1)かつ、t1とabs(x1+y1)の偶奇が一致していること\n",
        "if ( data[0][0] < abs(data[0][1]) + abs(data[0][2]) ) | ( data[0][0]%2 != abs(data[0][1] + data[0][2])%2 ):\n",
        "  check += 1\n",
        "  print('No')\n",
        "\n",
        "# t2以降について確認\n",
        "if check == 0:\n",
        "  for i in range(1, N):\n",
        "    # ti-1時点を原点に移動させた時のtiの時点、座標に直す\n",
        "    data[i][0] = data[i][0] - data[i-1][0]\n",
        "    data[i][1] = data[i][1] - data[i-1][1]\n",
        "    data[i][2] = data[i][2] - data[i-1][2]\n",
        "    \n",
        "    if ( data[i][0] < abs(data[i][1]) + abs(data[i][2]) ) | ( data[i][0]%2 != abs(data[i][1] + data[i][2])%2 ):\n",
        "      print('No')\n",
        "      break\n",
        "\n",
        "if check == 0:\n",
        "  print('Yes')"
      ],
      "metadata": {
        "colab": {
          "base_uri": "https://localhost:8080/"
        },
        "id": "eHe3Rdg_5v1B",
        "outputId": "ab5ef523-1ff2-4803-c570-e8b93a5a1091"
      },
      "execution_count": null,
      "outputs": [
        {
          "output_type": "stream",
          "name": "stdout",
          "text": [
            "2\n",
            "5 1 1\n",
            "100 1 1\n",
            "No\n"
          ]
        }
      ]
    },
    {
      "cell_type": "code",
      "source": [
        ""
      ],
      "metadata": {
        "id": "4Y6BcFCeGN4Q"
      },
      "execution_count": null,
      "outputs": []
    },
    {
      "cell_type": "code",
      "source": [
        ""
      ],
      "metadata": {
        "id": "TeB23pSCGNzT"
      },
      "execution_count": null,
      "outputs": []
    },
    {
      "cell_type": "code",
      "source": [
        ""
      ],
      "metadata": {
        "id": "POb8e6eAGNqM"
      },
      "execution_count": null,
      "outputs": []
    },
    {
      "cell_type": "markdown",
      "metadata": {
        "id": "Bf3CuY4K7r9G"
      },
      "source": [
        "# 参考\n",
        " - [(1) AtCoder に登録したら解くべき精選過去問 10 問 をPythonで解いてみた](http://delta114514.hatenablog.jp/entry/2018/03/15/014555)"
      ]
    }
  ]
}